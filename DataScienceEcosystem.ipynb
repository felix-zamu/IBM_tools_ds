{
  "nbformat": 4,
  "nbformat_minor": 0,
  "metadata": {
    "colab": {
      "provenance": []
    },
    "kernelspec": {
      "name": "python3",
      "display_name": "Python 3"
    },
    "language_info": {
      "name": "python"
    }
  },
  "cells": [
    {
      "cell_type": "markdown",
      "source": [
        "<h1>Data Science Tools and Ecosystem</h1>\n"
      ],
      "metadata": {
        "id": "2U-eSt6Baect"
      }
    },
    {
      "cell_type": "markdown",
      "source": [
        "In this notebook, Data Science Tools and Ecosystem are summarized."
      ],
      "metadata": {
        "id": "XTaffGpfatEM"
      }
    },
    {
      "cell_type": "markdown",
      "source": [
        "**Objectives:**\n",
        "\n",
        "\n",
        "\n",
        "*   List data science languages\n",
        "*   List data science libraries\n",
        "*   List Data Science tools\n",
        "*   Evaluate arithmetic expressions in Python\n"
      ],
      "metadata": {
        "id": "ZzgwNFwPe6Nv"
      }
    },
    {
      "cell_type": "markdown",
      "source": [
        "Some of the popular languages that Data Scientists use are:\n",
        "\n",
        "\n",
        "1.   Python\n",
        "2.   R\n",
        "3.   Julia\n",
        "\n",
        "\n",
        "\n",
        "\n",
        "\n",
        "\n",
        "\n",
        "\n"
      ],
      "metadata": {
        "id": "ICcJ7t5vbS_W"
      }
    },
    {
      "cell_type": "markdown",
      "source": [
        "Some of the commonly used libraries used by Data Scientists include:\n",
        "\n",
        "1.   Numpy\n",
        "2.   Pandas\n",
        "3.   Matplotlib\n",
        "\n"
      ],
      "metadata": {
        "id": "LinIpLmRbmtW"
      }
    },
    {
      "cell_type": "markdown",
      "source": [
        "\n",
        "<table>\n",
        "  <tr>\n",
        "    <td></td>\n",
        "    <th>Data Science Tools</th>\n",
        "  </tr>\n",
        "  <tr>\n",
        "    <th>1</th>\n",
        "    <td>Jupyter Notebooks</td>\n",
        "\n",
        "  </tr>\n",
        "  <tr>\n",
        "    <th>2</th>\n",
        "    <td>Google Colab</td>\n",
        "  </tr>\n",
        "    <tr>\n",
        "    <th>3</th>\n",
        "    <td>Rstudio</td>\n",
        "  </tr>\n",
        "</table\n"
      ],
      "metadata": {
        "id": "_A5vlzRKcbdp"
      }
    },
    {
      "cell_type": "markdown",
      "source": [
        "<h3>Below are a few examples of evaluating arithmetic expressions in Python</h3>"
      ],
      "metadata": {
        "id": "e7mO_sAQd5dG"
      }
    },
    {
      "cell_type": "code",
      "source": [
        "# This a simple arithmetic expression to mutiply then add integers\n",
        "(3*4)+5"
      ],
      "metadata": {
        "colab": {
          "base_uri": "https://localhost:8080/"
        },
        "id": "-26PhvlLeHRl",
        "outputId": "3a5a5512-ad00-4180-f766-5aabf9c610dc"
      },
      "execution_count": 1,
      "outputs": [
        {
          "output_type": "execute_result",
          "data": {
            "text/plain": [
              "17"
            ]
          },
          "metadata": {},
          "execution_count": 1
        }
      ]
    },
    {
      "cell_type": "code",
      "source": [
        "#This will convert 200 minutes to hours by diving by 60\n",
        "hours = 200/60\n",
        "hours"
      ],
      "metadata": {
        "colab": {
          "base_uri": "https://localhost:8080/"
        },
        "id": "uEusZfq7efll",
        "outputId": "4345add9-887d-44e6-a7ab-3ffdd056189a"
      },
      "execution_count": 2,
      "outputs": [
        {
          "output_type": "execute_result",
          "data": {
            "text/plain": [
              "3.3333333333333335"
            ]
          },
          "metadata": {},
          "execution_count": 2
        }
      ]
    },
    {
      "cell_type": "markdown",
      "source": [
        "<h2>Author</h2>\n",
        "Felix Zamuriano Carbajal"
      ],
      "metadata": {
        "id": "BlFsAgdfheJO"
      }
    }
  ]
}